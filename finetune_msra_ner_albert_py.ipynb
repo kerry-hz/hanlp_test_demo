{
  "nbformat": 4,
  "nbformat_minor": 0,
  "metadata": {
    "colab": {
      "name": "finetune_msra_ner_albert.py.ipynb",
      "provenance": [],
      "collapsed_sections": [],
      "authorship_tag": "ABX9TyN8r7EvWij5b5/19WknAmKz",
      "include_colab_link": true
    },
    "kernelspec": {
      "name": "python3",
      "display_name": "Python 3"
    },
    "language_info": {
      "name": "python"
    },
    "accelerator": "GPU"
  },
  "cells": [
    {
      "cell_type": "markdown",
      "metadata": {
        "id": "view-in-github",
        "colab_type": "text"
      },
      "source": [
        "<a href=\"https://colab.research.google.com/github/kerry-hz/hanlp_test_demo/blob/main/finetune_msra_ner_albert_py.ipynb\" target=\"_parent\"><img src=\"https://colab.research.google.com/assets/colab-badge.svg\" alt=\"Open In Colab\"/></a>"
      ]
    },
    {
      "cell_type": "code",
      "metadata": {
        "colab": {
          "base_uri": "https://localhost:8080/"
        },
        "id": "T2vZxdATP3zV",
        "outputId": "ebaf041d-74c1-43b8-d625-92656f8eb2ef"
      },
      "source": [
        "pip install hanlp[full] -U"
      ],
      "execution_count": 2,
      "outputs": [
        {
          "output_type": "stream",
          "text": [
            "Collecting hanlp[full]\n",
            "\u001b[?25l  Downloading https://files.pythonhosted.org/packages/af/4e/438556080e436b704967b1e23b78c48592a27685909601b40e7d8d0741c1/hanlp-2.1.0a36.tar.gz (397kB)\n",
            "\r\u001b[K     |▉                               | 10kB 15.0MB/s eta 0:00:01\r\u001b[K     |█▋                              | 20kB 20.9MB/s eta 0:00:01\r\u001b[K     |██▌                             | 30kB 14.3MB/s eta 0:00:01\r\u001b[K     |███▎                            | 40kB 10.4MB/s eta 0:00:01\r\u001b[K     |████▏                           | 51kB 7.6MB/s eta 0:00:01\r\u001b[K     |█████                           | 61kB 8.2MB/s eta 0:00:01\r\u001b[K     |█████▊                          | 71kB 8.2MB/s eta 0:00:01\r\u001b[K     |██████▋                         | 81kB 8.6MB/s eta 0:00:01\r\u001b[K     |███████▍                        | 92kB 8.7MB/s eta 0:00:01\r\u001b[K     |████████▎                       | 102kB 9.0MB/s eta 0:00:01\r\u001b[K     |█████████                       | 112kB 9.0MB/s eta 0:00:01\r\u001b[K     |██████████                      | 122kB 9.0MB/s eta 0:00:01\r\u001b[K     |██████████▊                     | 133kB 9.0MB/s eta 0:00:01\r\u001b[K     |███████████▌                    | 143kB 9.0MB/s eta 0:00:01\r\u001b[K     |████████████▍                   | 153kB 9.0MB/s eta 0:00:01\r\u001b[K     |█████████████▏                  | 163kB 9.0MB/s eta 0:00:01\r\u001b[K     |██████████████                  | 174kB 9.0MB/s eta 0:00:01\r\u001b[K     |██████████████▉                 | 184kB 9.0MB/s eta 0:00:01\r\u001b[K     |███████████████▋                | 194kB 9.0MB/s eta 0:00:01\r\u001b[K     |████████████████▌               | 204kB 9.0MB/s eta 0:00:01\r\u001b[K     |█████████████████▎              | 215kB 9.0MB/s eta 0:00:01\r\u001b[K     |██████████████████▏             | 225kB 9.0MB/s eta 0:00:01\r\u001b[K     |███████████████████             | 235kB 9.0MB/s eta 0:00:01\r\u001b[K     |███████████████████▉            | 245kB 9.0MB/s eta 0:00:01\r\u001b[K     |████████████████████▋           | 256kB 9.0MB/s eta 0:00:01\r\u001b[K     |█████████████████████▍          | 266kB 9.0MB/s eta 0:00:01\r\u001b[K     |██████████████████████▎         | 276kB 9.0MB/s eta 0:00:01\r\u001b[K     |███████████████████████         | 286kB 9.0MB/s eta 0:00:01\r\u001b[K     |████████████████████████        | 296kB 9.0MB/s eta 0:00:01\r\u001b[K     |████████████████████████▊       | 307kB 9.0MB/s eta 0:00:01\r\u001b[K     |█████████████████████████▌      | 317kB 9.0MB/s eta 0:00:01\r\u001b[K     |██████████████████████████▍     | 327kB 9.0MB/s eta 0:00:01\r\u001b[K     |███████████████████████████▏    | 337kB 9.0MB/s eta 0:00:01\r\u001b[K     |████████████████████████████    | 348kB 9.0MB/s eta 0:00:01\r\u001b[K     |████████████████████████████▉   | 358kB 9.0MB/s eta 0:00:01\r\u001b[K     |█████████████████████████████▊  | 368kB 9.0MB/s eta 0:00:01\r\u001b[K     |██████████████████████████████▌ | 378kB 9.0MB/s eta 0:00:01\r\u001b[K     |███████████████████████████████▎| 389kB 9.0MB/s eta 0:00:01\r\u001b[K     |████████████████████████████████| 399kB 9.0MB/s \n",
            "\u001b[?25hRequirement already satisfied, skipping upgrade: termcolor in /usr/local/lib/python3.7/dist-packages (from hanlp[full]) (1.1.0)\n",
            "Collecting pynvml\n",
            "  Downloading https://files.pythonhosted.org/packages/1b/1a/a25c143e1d2f873d67edf534b269d028dd3c20be69737cca56bf28911d02/pynvml-8.0.4-py3-none-any.whl\n",
            "Collecting alnlp\n",
            "\u001b[?25l  Downloading https://files.pythonhosted.org/packages/87/f0/3c235decdf92d5d7e9bfd98d00870e1556d4a1593e4d82ee13017b38ecd5/alnlp-1.0.0rc25.tar.gz (131kB)\n",
            "\u001b[K     |████████████████████████████████| 133kB 12.6MB/s \n",
            "\u001b[?25hCollecting toposort==1.5\n",
            "  Downloading https://files.pythonhosted.org/packages/e9/8a/321cd8ea5f4a22a06e3ba30ef31ec33bea11a3443eeb1d89807640ee6ed4/toposort-1.5-py2.py3-none-any.whl\n",
            "Collecting transformers>=4.1.1\n",
            "\u001b[?25l  Downloading https://files.pythonhosted.org/packages/d8/b2/57495b5309f09fa501866e225c84532d1fd89536ea62406b2181933fb418/transformers-4.5.1-py3-none-any.whl (2.1MB)\n",
            "\u001b[K     |████████████████████████████████| 2.1MB 14.6MB/s \n",
            "\u001b[?25hCollecting sentencepiece>=0.1.91torch>=1.6.0\n",
            "\u001b[?25l  Downloading https://files.pythonhosted.org/packages/f5/99/e0808cb947ba10f575839c43e8fafc9cc44e4a7a2c8f79c60db48220a577/sentencepiece-0.1.95-cp37-cp37m-manylinux2014_x86_64.whl (1.2MB)\n",
            "\u001b[K     |████████████████████████████████| 1.2MB 32.9MB/s \n",
            "\u001b[?25hCollecting hanlp-common>=0.0.6\n",
            "  Downloading https://files.pythonhosted.org/packages/39/0b/7598420143592adb7cdf7afd2b1728bc1c23dd8d1faa60cdefa89efbbd10/hanlp_common-0.0.6.tar.gz\n",
            "Collecting hanlp-trie>=0.0.2\n",
            "  Downloading https://files.pythonhosted.org/packages/20/72/e34d0ca411eb414b5aa60580ebfa684c21e0edf29de67a82c72de8e130be/hanlp_trie-0.0.2.tar.gz\n",
            "Collecting hanlp-downloader\n",
            "  Downloading https://files.pythonhosted.org/packages/e5/7d/9908085d5e622d9ae0436b40f7cb49b817a63c5950e963494f7f701b92e0/hanlp_downloader-0.0.20.tar.gz\n",
            "Collecting fasttext==0.9.1\n",
            "\u001b[?25l  Downloading https://files.pythonhosted.org/packages/10/61/2e01f1397ec533756c1d893c22d9d5ed3fce3a6e4af1976e0d86bb13ea97/fasttext-0.9.1.tar.gz (57kB)\n",
            "\u001b[K     |████████████████████████████████| 61kB 7.9MB/s \n",
            "\u001b[?25hCollecting tensorflow==2.3.0\n",
            "\u001b[?25l  Downloading https://files.pythonhosted.org/packages/16/89/f2d29c2eafc2eeafb17d5634340e06366af904d332341200a49d954bce85/tensorflow-2.3.0-cp37-cp37m-manylinux2010_x86_64.whl (320.4MB)\n",
            "\u001b[K     |████████████████████████████████| 320.4MB 48kB/s \n",
            "\u001b[?25hCollecting bert-for-tf2==0.14.6\n",
            "\u001b[?25l  Downloading https://files.pythonhosted.org/packages/af/c1/015648a2186b25c6de79d15bec40d3d946fcf1dd5067d1c1b28009506486/bert-for-tf2-0.14.6.tar.gz (40kB)\n",
            "\u001b[K     |████████████████████████████████| 40kB 6.1MB/s \n",
            "\u001b[?25hCollecting py-params==0.9.7\n",
            "  Downloading https://files.pythonhosted.org/packages/a4/bf/c1c70d5315a8677310ea10a41cfc41c5970d9b37c31f9c90d4ab98021fd1/py-params-0.9.7.tar.gz\n",
            "Collecting params-flow==0.8.2\n",
            "  Downloading https://files.pythonhosted.org/packages/a9/95/ff49f5ebd501f142a6f0aaf42bcfd1c192dc54909d1d9eb84ab031d46056/params-flow-0.8.2.tar.gz\n",
            "Collecting penman==0.6.2\n",
            "  Downloading https://files.pythonhosted.org/packages/95/c9/bcd6ecbc1e204d83c35b2986361e71ccbac9f4dd5ddbf4a806772aab433d/Penman-0.6.2-py2.py3-none-any.whl\n",
            "Requirement already satisfied, skipping upgrade: torch in /usr/local/lib/python3.7/dist-packages (from alnlp->hanlp[full]) (1.8.1+cu101)\n",
            "Collecting overrides\n",
            "  Downloading https://files.pythonhosted.org/packages/ff/b1/10f69c00947518e6676bbd43e739733048de64b8dd998e9c2d5a71f44c5d/overrides-3.1.0.tar.gz\n",
            "Requirement already satisfied, skipping upgrade: importlib-metadata; python_version < \"3.8\" in /usr/local/lib/python3.7/dist-packages (from transformers>=4.1.1->hanlp[full]) (3.10.0)\n",
            "Collecting tokenizers<0.11,>=0.10.1\n",
            "\u001b[?25l  Downloading https://files.pythonhosted.org/packages/ae/04/5b870f26a858552025a62f1649c20d29d2672c02ff3c3fb4c688ca46467a/tokenizers-0.10.2-cp37-cp37m-manylinux2010_x86_64.whl (3.3MB)\n",
            "\u001b[K     |████████████████████████████████| 3.3MB 42.1MB/s \n",
            "\u001b[?25hRequirement already satisfied, skipping upgrade: filelock in /usr/local/lib/python3.7/dist-packages (from transformers>=4.1.1->hanlp[full]) (3.0.12)\n",
            "Requirement already satisfied, skipping upgrade: regex!=2019.12.17 in /usr/local/lib/python3.7/dist-packages (from transformers>=4.1.1->hanlp[full]) (2019.12.20)\n",
            "Collecting sacremoses\n",
            "\u001b[?25l  Downloading https://files.pythonhosted.org/packages/08/cd/342e584ee544d044fb573ae697404ce22ede086c9e87ce5960772084cad0/sacremoses-0.0.44.tar.gz (862kB)\n",
            "\u001b[K     |████████████████████████████████| 870kB 41.5MB/s \n",
            "\u001b[?25hRequirement already satisfied, skipping upgrade: requests in /usr/local/lib/python3.7/dist-packages (from transformers>=4.1.1->hanlp[full]) (2.23.0)\n",
            "Requirement already satisfied, skipping upgrade: tqdm>=4.27 in /usr/local/lib/python3.7/dist-packages (from transformers>=4.1.1->hanlp[full]) (4.41.1)\n",
            "Requirement already satisfied, skipping upgrade: numpy>=1.17 in /usr/local/lib/python3.7/dist-packages (from transformers>=4.1.1->hanlp[full]) (1.19.5)\n",
            "Requirement already satisfied, skipping upgrade: packaging in /usr/local/lib/python3.7/dist-packages (from transformers>=4.1.1->hanlp[full]) (20.9)\n",
            "Collecting phrasetree\n",
            "\u001b[?25l  Downloading https://files.pythonhosted.org/packages/9e/fc/6978a87e71b48db41fb4d0ddd751f72d3d0f0d0683a61d4a19304bccb479/phrasetree-0.0.8.tar.gz (42kB)\n",
            "\u001b[K     |████████████████████████████████| 51kB 7.3MB/s \n",
            "\u001b[?25hRequirement already satisfied, skipping upgrade: pybind11>=2.2 in /usr/local/lib/python3.7/dist-packages (from fasttext==0.9.1->hanlp[full]) (2.6.2)\n",
            "Requirement already satisfied, skipping upgrade: setuptools>=0.7.0 in /usr/local/lib/python3.7/dist-packages (from fasttext==0.9.1->hanlp[full]) (54.2.0)\n",
            "Requirement already satisfied, skipping upgrade: gast==0.3.3 in /usr/local/lib/python3.7/dist-packages (from tensorflow==2.3.0->hanlp[full]) (0.3.3)\n",
            "Requirement already satisfied, skipping upgrade: wheel>=0.26 in /usr/local/lib/python3.7/dist-packages (from tensorflow==2.3.0->hanlp[full]) (0.36.2)\n",
            "Requirement already satisfied, skipping upgrade: opt-einsum>=2.3.2 in /usr/local/lib/python3.7/dist-packages (from tensorflow==2.3.0->hanlp[full]) (3.3.0)\n",
            "Requirement already satisfied, skipping upgrade: scipy==1.4.1 in /usr/local/lib/python3.7/dist-packages (from tensorflow==2.3.0->hanlp[full]) (1.4.1)\n",
            "Requirement already satisfied, skipping upgrade: grpcio>=1.8.6 in /usr/local/lib/python3.7/dist-packages (from tensorflow==2.3.0->hanlp[full]) (1.32.0)\n",
            "Requirement already satisfied, skipping upgrade: h5py<2.11.0,>=2.10.0 in /usr/local/lib/python3.7/dist-packages (from tensorflow==2.3.0->hanlp[full]) (2.10.0)\n",
            "Requirement already satisfied, skipping upgrade: keras-preprocessing<1.2,>=1.1.1 in /usr/local/lib/python3.7/dist-packages (from tensorflow==2.3.0->hanlp[full]) (1.1.2)\n",
            "Requirement already satisfied, skipping upgrade: wrapt>=1.11.1 in /usr/local/lib/python3.7/dist-packages (from tensorflow==2.3.0->hanlp[full]) (1.12.1)\n",
            "Requirement already satisfied, skipping upgrade: tensorboard<3,>=2.3.0 in /usr/local/lib/python3.7/dist-packages (from tensorflow==2.3.0->hanlp[full]) (2.4.1)\n",
            "Requirement already satisfied, skipping upgrade: astunparse==1.6.3 in /usr/local/lib/python3.7/dist-packages (from tensorflow==2.3.0->hanlp[full]) (1.6.3)\n",
            "Requirement already satisfied, skipping upgrade: google-pasta>=0.1.8 in /usr/local/lib/python3.7/dist-packages (from tensorflow==2.3.0->hanlp[full]) (0.2.0)\n",
            "Collecting tensorflow-estimator<2.4.0,>=2.3.0\n",
            "\u001b[?25l  Downloading https://files.pythonhosted.org/packages/e9/ed/5853ec0ae380cba4588eab1524e18ece1583b65f7ae0e97321f5ff9dfd60/tensorflow_estimator-2.3.0-py2.py3-none-any.whl (459kB)\n",
            "\u001b[K     |████████████████████████████████| 460kB 45.3MB/s \n",
            "\u001b[?25hRequirement already satisfied, skipping upgrade: protobuf>=3.9.2 in /usr/local/lib/python3.7/dist-packages (from tensorflow==2.3.0->hanlp[full]) (3.12.4)\n",
            "Requirement already satisfied, skipping upgrade: six>=1.12.0 in /usr/local/lib/python3.7/dist-packages (from tensorflow==2.3.0->hanlp[full]) (1.15.0)\n",
            "Requirement already satisfied, skipping upgrade: absl-py>=0.7.0 in /usr/local/lib/python3.7/dist-packages (from tensorflow==2.3.0->hanlp[full]) (0.12.0)\n",
            "Requirement already satisfied, skipping upgrade: docopt>=0.6.0 in /usr/local/lib/python3.7/dist-packages (from penman==0.6.2->hanlp[full]) (0.6.2)\n",
            "Requirement already satisfied, skipping upgrade: typing-extensions in /usr/local/lib/python3.7/dist-packages (from torch->alnlp->hanlp[full]) (3.7.4.3)\n",
            "Requirement already satisfied, skipping upgrade: zipp>=0.5 in /usr/local/lib/python3.7/dist-packages (from importlib-metadata; python_version < \"3.8\"->transformers>=4.1.1->hanlp[full]) (3.4.1)\n",
            "Requirement already satisfied, skipping upgrade: click in /usr/local/lib/python3.7/dist-packages (from sacremoses->transformers>=4.1.1->hanlp[full]) (7.1.2)\n",
            "Requirement already satisfied, skipping upgrade: joblib in /usr/local/lib/python3.7/dist-packages (from sacremoses->transformers>=4.1.1->hanlp[full]) (1.0.1)\n",
            "Requirement already satisfied, skipping upgrade: urllib3!=1.25.0,!=1.25.1,<1.26,>=1.21.1 in /usr/local/lib/python3.7/dist-packages (from requests->transformers>=4.1.1->hanlp[full]) (1.24.3)\n",
            "Requirement already satisfied, skipping upgrade: certifi>=2017.4.17 in /usr/local/lib/python3.7/dist-packages (from requests->transformers>=4.1.1->hanlp[full]) (2020.12.5)\n",
            "Requirement already satisfied, skipping upgrade: chardet<4,>=3.0.2 in /usr/local/lib/python3.7/dist-packages (from requests->transformers>=4.1.1->hanlp[full]) (3.0.4)\n",
            "Requirement already satisfied, skipping upgrade: idna<3,>=2.5 in /usr/local/lib/python3.7/dist-packages (from requests->transformers>=4.1.1->hanlp[full]) (2.10)\n",
            "Requirement already satisfied, skipping upgrade: pyparsing>=2.0.2 in /usr/local/lib/python3.7/dist-packages (from packaging->transformers>=4.1.1->hanlp[full]) (2.4.7)\n",
            "Requirement already satisfied, skipping upgrade: google-auth<2,>=1.6.3 in /usr/local/lib/python3.7/dist-packages (from tensorboard<3,>=2.3.0->tensorflow==2.3.0->hanlp[full]) (1.28.1)\n",
            "Requirement already satisfied, skipping upgrade: markdown>=2.6.8 in /usr/local/lib/python3.7/dist-packages (from tensorboard<3,>=2.3.0->tensorflow==2.3.0->hanlp[full]) (3.3.4)\n",
            "Requirement already satisfied, skipping upgrade: werkzeug>=0.11.15 in /usr/local/lib/python3.7/dist-packages (from tensorboard<3,>=2.3.0->tensorflow==2.3.0->hanlp[full]) (1.0.1)\n",
            "Requirement already satisfied, skipping upgrade: tensorboard-plugin-wit>=1.6.0 in /usr/local/lib/python3.7/dist-packages (from tensorboard<3,>=2.3.0->tensorflow==2.3.0->hanlp[full]) (1.8.0)\n",
            "Requirement already satisfied, skipping upgrade: google-auth-oauthlib<0.5,>=0.4.1 in /usr/local/lib/python3.7/dist-packages (from tensorboard<3,>=2.3.0->tensorflow==2.3.0->hanlp[full]) (0.4.4)\n",
            "Requirement already satisfied, skipping upgrade: pyasn1-modules>=0.2.1 in /usr/local/lib/python3.7/dist-packages (from google-auth<2,>=1.6.3->tensorboard<3,>=2.3.0->tensorflow==2.3.0->hanlp[full]) (0.2.8)\n",
            "Requirement already satisfied, skipping upgrade: cachetools<5.0,>=2.0.0 in /usr/local/lib/python3.7/dist-packages (from google-auth<2,>=1.6.3->tensorboard<3,>=2.3.0->tensorflow==2.3.0->hanlp[full]) (4.2.1)\n",
            "Requirement already satisfied, skipping upgrade: rsa<5,>=3.1.4; python_version >= \"3.6\" in /usr/local/lib/python3.7/dist-packages (from google-auth<2,>=1.6.3->tensorboard<3,>=2.3.0->tensorflow==2.3.0->hanlp[full]) (4.7.2)\n",
            "Requirement already satisfied, skipping upgrade: requests-oauthlib>=0.7.0 in /usr/local/lib/python3.7/dist-packages (from google-auth-oauthlib<0.5,>=0.4.1->tensorboard<3,>=2.3.0->tensorflow==2.3.0->hanlp[full]) (1.3.0)\n",
            "Requirement already satisfied, skipping upgrade: pyasn1<0.5.0,>=0.4.6 in /usr/local/lib/python3.7/dist-packages (from pyasn1-modules>=0.2.1->google-auth<2,>=1.6.3->tensorboard<3,>=2.3.0->tensorflow==2.3.0->hanlp[full]) (0.4.8)\n",
            "Requirement already satisfied, skipping upgrade: oauthlib>=3.0.0 in /usr/local/lib/python3.7/dist-packages (from requests-oauthlib>=0.7.0->google-auth-oauthlib<0.5,>=0.4.1->tensorboard<3,>=2.3.0->tensorflow==2.3.0->hanlp[full]) (3.1.0)\n",
            "Building wheels for collected packages: hanlp, alnlp, hanlp-common, hanlp-trie, hanlp-downloader, fasttext, bert-for-tf2, py-params, params-flow, overrides, sacremoses, phrasetree\n",
            "  Building wheel for hanlp (setup.py) ... \u001b[?25l\u001b[?25hdone\n",
            "  Created wheel for hanlp: filename=hanlp-2.1.0a36-cp37-none-any.whl size=542822 sha256=3d247f351698b2b48e3cd26e5a67f4982f9d697452816d248a7832e979247748\n",
            "  Stored in directory: /root/.cache/pip/wheels/9d/26/45/516faa6853471043be249862f72fb046a7972f31cfe87f8220\n",
            "  Building wheel for alnlp (setup.py) ... \u001b[?25l\u001b[?25hdone\n",
            "  Created wheel for alnlp: filename=alnlp-1.0.0rc25-cp37-none-any.whl size=160803 sha256=32ada651849eb753a1ccd00ce8fd87c5f4bb5134864f931eeb85148b2072bb8d\n",
            "  Stored in directory: /root/.cache/pip/wheels/8f/c8/45/30940b9b6a1836d14290cbba490b582dcb38ee8e499f8c323d\n",
            "  Building wheel for hanlp-common (setup.py) ... \u001b[?25l\u001b[?25hdone\n",
            "  Created wheel for hanlp-common: filename=hanlp_common-0.0.6-cp37-none-any.whl size=28686 sha256=8808f02c8c9594bf5d23cd515a31a15a7969365c5da5ebe099ab33f949a2287e\n",
            "  Stored in directory: /root/.cache/pip/wheels/98/25/57/3fbc9009576259497dcab32396713bef934f2bdadf774339b8\n",
            "  Building wheel for hanlp-trie (setup.py) ... \u001b[?25l\u001b[?25hdone\n",
            "  Created wheel for hanlp-trie: filename=hanlp_trie-0.0.2-cp37-none-any.whl size=6230 sha256=e47da74988e9ccbeb7ad1aec3aeb5606abe72423e5978495d0ba3104cd78541d\n",
            "  Stored in directory: /root/.cache/pip/wheels/8c/40/a2/74119b97eed77b1d520a43f9756ad7137787b7063dd09aaf17\n",
            "  Building wheel for hanlp-downloader (setup.py) ... \u001b[?25l\u001b[?25hdone\n",
            "  Created wheel for hanlp-downloader: filename=hanlp_downloader-0.0.20-cp37-none-any.whl size=13694 sha256=11e9173608678b3129171d772684b0c558e78fd90490f8a54b7e228d921f788b\n",
            "  Stored in directory: /root/.cache/pip/wheels/a2/1b/0c/9c147888c39a723721f4b4c02165cff4ebb604fb386e1c1e94\n",
            "  Building wheel for fasttext (setup.py) ... \u001b[?25l\u001b[?25hdone\n",
            "  Created wheel for fasttext: filename=fasttext-0.9.1-cp37-cp37m-linux_x86_64.whl size=2462263 sha256=28cd7c65c850315752077da749fcd5eaeb17eb1a58dca4267b12ac04ac181b1d\n",
            "  Stored in directory: /root/.cache/pip/wheels/9f/f0/04/caa82c912aee89ce76358ff954f3f0729b7577c8ff23a292e3\n",
            "  Building wheel for bert-for-tf2 (setup.py) ... \u001b[?25l\u001b[?25hdone\n",
            "  Created wheel for bert-for-tf2: filename=bert_for_tf2-0.14.6-cp37-none-any.whl size=30318 sha256=9478c8c05da144b0dbd1d889cff17cdecfd6c3fcf3f382911dd0aeff67dbc736\n",
            "  Stored in directory: /root/.cache/pip/wheels/07/a0/b4/75b0601ebaa41e517a797fe9cea119c789664c8408f8a74ae9\n",
            "  Building wheel for py-params (setup.py) ... \u001b[?25l\u001b[?25hdone\n",
            "  Created wheel for py-params: filename=py_params-0.9.7-cp37-none-any.whl size=7303 sha256=af019be815087812089865021c995c14f291fbf24a72e77e18154c1d3d3848b7\n",
            "  Stored in directory: /root/.cache/pip/wheels/67/f5/19/b461849a50aefdf4bab47c4756596e82ee2118b8278e5a1980\n",
            "  Building wheel for params-flow (setup.py) ... \u001b[?25l\u001b[?25hdone\n",
            "  Created wheel for params-flow: filename=params_flow-0.8.2-cp37-none-any.whl size=19472 sha256=3298f095af82c0eb3c9014c7e075bdbfd38e54de3996c2533bac80619e90342c\n",
            "  Stored in directory: /root/.cache/pip/wheels/08/c8/7f/81c86b9ff2b86e2c477e3914175be03e679e596067dc630c06\n",
            "  Building wheel for overrides (setup.py) ... \u001b[?25l\u001b[?25hdone\n",
            "  Created wheel for overrides: filename=overrides-3.1.0-cp37-none-any.whl size=10174 sha256=ccd91666bc5cfd6120218837867c05dda9ac2630f7b1194a85ecaf12f693661a\n",
            "  Stored in directory: /root/.cache/pip/wheels/5c/24/13/6ef8600e6f147c95e595f1289a86a3cc82ed65df57582c65a9\n",
            "  Building wheel for sacremoses (setup.py) ... \u001b[?25l\u001b[?25hdone\n",
            "  Created wheel for sacremoses: filename=sacremoses-0.0.44-cp37-none-any.whl size=886084 sha256=3a5c6979257cc116161e47e27b9faddeda2c0ad3630ce93bfec306d7104448f9\n",
            "  Stored in directory: /root/.cache/pip/wheels/3e/fb/c0/13ab4d63d537658f448366744654323077c4d90069b6512f3c\n",
            "  Building wheel for phrasetree (setup.py) ... \u001b[?25l\u001b[?25hdone\n",
            "  Created wheel for phrasetree: filename=phrasetree-0.0.8-cp37-none-any.whl size=44232 sha256=05934741276710f908785b31a8bcaa806edb5806d35352de5b12e59f2384de1d\n",
            "  Stored in directory: /root/.cache/pip/wheels/ea/9f/f5/80f1ba937c316b52534c36f0e510b294c7d5d0aa9bfa0ed866\n",
            "Successfully built hanlp alnlp hanlp-common hanlp-trie hanlp-downloader fasttext bert-for-tf2 py-params params-flow overrides sacremoses phrasetree\n",
            "\u001b[31mERROR: tensorflow 2.3.0 has requirement numpy<1.19.0,>=1.16.0, but you'll have numpy 1.19.5 which is incompatible.\u001b[0m\n",
            "Installing collected packages: pynvml, overrides, alnlp, toposort, tokenizers, sacremoses, transformers, sentencepiece, phrasetree, hanlp-common, hanlp-trie, hanlp-downloader, fasttext, tensorflow-estimator, tensorflow, py-params, params-flow, bert-for-tf2, penman, hanlp\n",
            "  Found existing installation: tensorflow-estimator 2.4.0\n",
            "    Uninstalling tensorflow-estimator-2.4.0:\n",
            "      Successfully uninstalled tensorflow-estimator-2.4.0\n",
            "  Found existing installation: tensorflow 2.4.1\n",
            "    Uninstalling tensorflow-2.4.1:\n",
            "      Successfully uninstalled tensorflow-2.4.1\n",
            "Successfully installed alnlp-1.0.0rc25 bert-for-tf2-0.14.6 fasttext-0.9.1 hanlp-2.1.0a36 hanlp-common-0.0.6 hanlp-downloader-0.0.20 hanlp-trie-0.0.2 overrides-3.1.0 params-flow-0.8.2 penman-0.6.2 phrasetree-0.0.8 py-params-0.9.7 pynvml-8.0.4 sacremoses-0.0.44 sentencepiece-0.1.95 tensorflow-2.3.0 tensorflow-estimator-2.3.0 tokenizers-0.10.2 toposort-1.5 transformers-4.5.1\n"
          ],
          "name": "stdout"
        }
      ]
    },
    {
      "cell_type": "markdown",
      "metadata": {
        "id": "YyqUb6PEOqN-"
      },
      "source": [
        ""
      ]
    },
    {
      "cell_type": "code",
      "metadata": {
        "colab": {
          "base_uri": "https://localhost:8080/"
        },
        "id": "7qO4Mvc2UJfc",
        "outputId": "99b5e776-893d-48a7-b695-503ad5cf3262"
      },
      "source": [
        "import hanlp\n",
        "from hanlp.components.ner_tf import TransformerNamedEntityRecognizerTF\n",
        "from hanlp.datasets.ner.msra import MSRA_NER_CHAR_LEVEL_TRAIN, MSRA_NER_CHAR_LEVEL_DEV, MSRA_NER_CHAR_LEVEL_TEST\n",
        "#from tests import cdroot\n",
        "\n",
        "#cdroot()\n",
        "recognizer = TransformerNamedEntityRecognizerTF()\n",
        "save_dir = 'data/model/ner/finetune_ner_albert_base_zh_msra'\n",
        "recognizer.fit(MSRA_NER_CHAR_LEVEL_TRAIN, MSRA_NER_CHAR_LEVEL_DEV, save_dir, transformer='albert_base_zh',\n",
        "               finetune=hanlp.pretrained.ner.MSRA_NER_ALBERT_BASE_ZH)\n",
        "recognizer.load(save_dir)"
      ],
      "execution_count": 3,
      "outputs": [
        {
          "output_type": "stream",
          "text": [
            "2021-04-14 07:38:19 INFO Model built:\n",
            "Model: \"functional_1\"\n",
            "__________________________________________________________________________________________________\n",
            "Layer (type)                    Output Shape         Param #     Connected to                     \n",
            "==================================================================================================\n",
            "input_ids (InputLayer)          [(None, 128)]        0                                            \n",
            "__________________________________________________________________________________________________\n",
            "token_type_ids (InputLayer)     [(None, 128)]        0                                            \n",
            "__________________________________________________________________________________________________\n",
            "mask_ids (InputLayer)           [(None, 128)]        0                                            \n",
            "__________________________________________________________________________________________________\n",
            "albert (BertModelLayer)         (None, 128, 768)     9957376     input_ids[0][0]                  \n",
            "                                                                 token_type_ids[0][0]             \n",
            "                                                                 mask_ids[0][0]                   \n",
            "__________________________________________________________________________________________________\n",
            "dense (Dense)                   (None, 128, 14)      10766       albert[0][0]                     \n",
            "==================================================================================================\n",
            "Total params: 9,968,142\n",
            "Trainable params: 9,968,142\n",
            "Non-trainable params: 0\n",
            "__________________________________________________________________________________________________\n"
          ],
          "name": "stdout"
        },
        {
          "output_type": "stream",
          "text": [
            "Downloading https://file.hankcs.com/hanlp/ner/ner_albert_base_zh_msra_20200111_202919.zip to /root/.hanlp/ner/ner_albert_base_zh_msra_20200111_202919.zip\n",
            "100%  35.5 MiB   8.2 MiB/s ETA:  0 s [=========================================]\n",
            "Extracting /root/.hanlp/ner/ner_albert_base_zh_msra_20200111_202919.zip to /root/.hanlp/ner\n"
          ],
          "name": "stderr"
        },
        {
          "output_type": "stream",
          "text": [
            "2021-04-14 07:38:30 INFO Loaded pretrained weights from /root/.hanlp/ner/ner_albert_base_zh_msra_20200111_202919/model.h5 for finetuning\n",
            "Epoch 1/3\n",
            "   4/1330 [..............................] - ETA: 8:29:48 - loss: 77.2471 - f1: 0.0000e+00\n",
            "2021-04-14 07:40:52 INFO Aborted with model saved\n",
            "2021-04-14 07:40:53 INFO Trained 0 epochs in 2 m 18 s, each epoch takes 2 m 18 s\n"
          ],
          "name": "stdout"
        }
      ]
    },
    {
      "cell_type": "code",
      "metadata": {
        "colab": {
          "base_uri": "https://localhost:8080/",
          "height": 35
        },
        "id": "AykZ5IVtVfWB",
        "outputId": "99d0a06e-cf3e-49f7-9fea-3e102b288545"
      },
      "source": [
        "import tensorflow as tf\n",
        "tf.test.gpu_device_name()"
      ],
      "execution_count": 1,
      "outputs": [
        {
          "output_type": "execute_result",
          "data": {
            "application/vnd.google.colaboratory.intrinsic+json": {
              "type": "string"
            },
            "text/plain": [
              "'/device:GPU:0'"
            ]
          },
          "metadata": {
            "tags": []
          },
          "execution_count": 1
        }
      ]
    },
    {
      "cell_type": "code",
      "metadata": {
        "colab": {
          "base_uri": "https://localhost:8080/"
        },
        "id": "75qFUtcsVju6",
        "outputId": "9eb9bb38-9ba0-47fb-c781-9802125d4d0e"
      },
      "source": [
        "!/opt/bin/nvidia-smi"
      ],
      "execution_count": 5,
      "outputs": [
        {
          "output_type": "stream",
          "text": [
            "Wed Apr 14 07:46:35 2021       \n",
            "+-----------------------------------------------------------------------------+\n",
            "| NVIDIA-SMI 460.32.03    Driver Version: 460.32.03    CUDA Version: 11.2     |\n",
            "|-------------------------------+----------------------+----------------------+\n",
            "| GPU  Name        Persistence-M| Bus-Id        Disp.A | Volatile Uncorr. ECC |\n",
            "| Fan  Temp  Perf  Pwr:Usage/Cap|         Memory-Usage | GPU-Util  Compute M. |\n",
            "|                               |                      |               MIG M. |\n",
            "|===============================+======================+======================|\n",
            "|   0  Tesla T4            Off  | 00000000:00:04.0 Off |                    0 |\n",
            "| N/A   67C    P0    32W /  70W |    222MiB / 15109MiB |      0%      Default |\n",
            "|                               |                      |                  N/A |\n",
            "+-------------------------------+----------------------+----------------------+\n",
            "                                                                               \n",
            "+-----------------------------------------------------------------------------+\n",
            "| Processes:                                                                  |\n",
            "|  GPU   GI   CI        PID   Type   Process name                  GPU Memory |\n",
            "|        ID   ID                                                   Usage      |\n",
            "|=============================================================================|\n",
            "+-----------------------------------------------------------------------------+\n"
          ],
          "name": "stdout"
        }
      ]
    }
  ]
}